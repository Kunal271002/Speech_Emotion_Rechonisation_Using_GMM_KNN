{
 "cells": [
  {
   "cell_type": "code",
   "execution_count": 123,
   "id": "1e7b1d8d",
   "metadata": {},
   "outputs": [
    {
     "name": "stdout",
     "output_type": "stream",
     "text": [
      "Requirement already satisfied: librosa in d:\\react-flask\\flask-server\\venv\\lib\\site-packages (0.10.1)Note: you may need to restart the kernel to use updated packages.\n",
      "\n",
      "Requirement already satisfied: audioread>=2.1.9 in d:\\react-flask\\flask-server\\venv\\lib\\site-packages (from librosa) (3.0.1)\n",
      "Requirement already satisfied: numpy!=1.22.0,!=1.22.1,!=1.22.2,>=1.20.3 in d:\\react-flask\\flask-server\\venv\\lib\\site-packages (from librosa) (1.26.4)\n",
      "Requirement already satisfied: scipy>=1.2.0 in d:\\react-flask\\flask-server\\venv\\lib\\site-packages (from librosa) (1.12.0)\n",
      "Requirement already satisfied: scikit-learn>=0.20.0 in d:\\react-flask\\flask-server\\venv\\lib\\site-packages (from librosa) (1.4.1.post1)\n",
      "Requirement already satisfied: joblib>=0.14 in d:\\react-flask\\flask-server\\venv\\lib\\site-packages (from librosa) (1.3.2)\n",
      "Requirement already satisfied: decorator>=4.3.0 in d:\\react-flask\\flask-server\\venv\\lib\\site-packages (from librosa) (4.4.2)\n",
      "Requirement already satisfied: numba>=0.51.0 in d:\\react-flask\\flask-server\\venv\\lib\\site-packages (from librosa) (0.59.0)\n",
      "Requirement already satisfied: soundfile>=0.12.1 in d:\\react-flask\\flask-server\\venv\\lib\\site-packages (from librosa) (0.12.1)\n",
      "Requirement already satisfied: pooch>=1.0 in d:\\react-flask\\flask-server\\venv\\lib\\site-packages (from librosa) (1.8.0)\n",
      "Requirement already satisfied: soxr>=0.3.2 in d:\\react-flask\\flask-server\\venv\\lib\\site-packages (from librosa) (0.3.7)\n",
      "Requirement already satisfied: typing-extensions>=4.1.1 in d:\\react-flask\\flask-server\\venv\\lib\\site-packages (from librosa) (4.9.0)\n",
      "Requirement already satisfied: lazy-loader>=0.1 in d:\\react-flask\\flask-server\\venv\\lib\\site-packages (from librosa) (0.3)\n",
      "Requirement already satisfied: msgpack>=1.0 in d:\\react-flask\\flask-server\\venv\\lib\\site-packages (from librosa) (1.0.7)\n",
      "Requirement already satisfied: llvmlite<0.43,>=0.42.0dev0 in d:\\react-flask\\flask-server\\venv\\lib\\site-packages (from numba>=0.51.0->librosa) (0.42.0)\n",
      "Requirement already satisfied: platformdirs>=2.5.0 in d:\\react-flask\\flask-server\\venv\\lib\\site-packages (from pooch>=1.0->librosa) (4.2.0)\n",
      "Requirement already satisfied: packaging>=20.0 in d:\\react-flask\\flask-server\\venv\\lib\\site-packages (from pooch>=1.0->librosa) (23.2)\n",
      "Requirement already satisfied: requests>=2.19.0 in d:\\react-flask\\flask-server\\venv\\lib\\site-packages (from pooch>=1.0->librosa) (2.31.0)\n",
      "Requirement already satisfied: threadpoolctl>=2.0.0 in d:\\react-flask\\flask-server\\venv\\lib\\site-packages (from scikit-learn>=0.20.0->librosa) (3.3.0)\n",
      "Requirement already satisfied: cffi>=1.0 in d:\\react-flask\\flask-server\\venv\\lib\\site-packages (from soundfile>=0.12.1->librosa) (1.16.0)\n",
      "Requirement already satisfied: pycparser in d:\\react-flask\\flask-server\\venv\\lib\\site-packages (from cffi>=1.0->soundfile>=0.12.1->librosa) (2.21)\n",
      "Requirement already satisfied: charset-normalizer<4,>=2 in d:\\react-flask\\flask-server\\venv\\lib\\site-packages (from requests>=2.19.0->pooch>=1.0->librosa) (3.3.2)\n",
      "Requirement already satisfied: idna<4,>=2.5 in d:\\react-flask\\flask-server\\venv\\lib\\site-packages (from requests>=2.19.0->pooch>=1.0->librosa) (3.6)\n",
      "Requirement already satisfied: urllib3<3,>=1.21.1 in d:\\react-flask\\flask-server\\venv\\lib\\site-packages (from requests>=2.19.0->pooch>=1.0->librosa) (2.2.1)\n",
      "Requirement already satisfied: certifi>=2017.4.17 in d:\\react-flask\\flask-server\\venv\\lib\\site-packages (from requests>=2.19.0->pooch>=1.0->librosa) (2024.2.2)\n",
      "Requirement already satisfied: numpy in d:\\react-flask\\flask-server\\venv\\lib\\site-packages (1.26.4)Note: you may need to restart the kernel to use updated packages.\n",
      "\n",
      "Requirement already satisfied: scikit-learn in d:\\react-flask\\flask-server\\venv\\lib\\site-packages (1.4.1.post1)Note: you may need to restart the kernel to use updated packages.\n",
      "\n",
      "Requirement already satisfied: numpy<2.0,>=1.19.5 in d:\\react-flask\\flask-server\\venv\\lib\\site-packages (from scikit-learn) (1.26.4)\n",
      "Requirement already satisfied: scipy>=1.6.0 in d:\\react-flask\\flask-server\\venv\\lib\\site-packages (from scikit-learn) (1.12.0)\n",
      "Requirement already satisfied: joblib>=1.2.0 in d:\\react-flask\\flask-server\\venv\\lib\\site-packages (from scikit-learn) (1.3.2)\n",
      "Requirement already satisfied: threadpoolctl>=2.0.0 in d:\\react-flask\\flask-server\\venv\\lib\\site-packages (from scikit-learn) (3.3.0)\n",
      "Requirement already satisfied: keras in d:\\react-flask\\flask-server\\venv\\lib\\site-packages (2.15.0)\n",
      "Note: you may need to restart the kernel to use updated packages.\n",
      "Requirement already satisfied: matplotlib in d:\\react-flask\\flask-server\\venv\\lib\\site-packages (3.8.3)\n",
      "Requirement already satisfied: contourpy>=1.0.1 in d:\\react-flask\\flask-server\\venv\\lib\\site-packages (from matplotlib) (1.2.0)\n",
      "Requirement already satisfied: cycler>=0.10 in d:\\react-flask\\flask-server\\venv\\lib\\site-packages (from matplotlib) (0.12.1)\n",
      "Requirement already satisfied: fonttools>=4.22.0 in d:\\react-flask\\flask-server\\venv\\lib\\site-packages (from matplotlib) (4.49.0)\n",
      "Requirement already satisfied: kiwisolver>=1.3.1 in d:\\react-flask\\flask-server\\venv\\lib\\site-packages (from matplotlib) (1.4.5)\n",
      "Requirement already satisfied: numpy<2,>=1.21 in d:\\react-flask\\flask-server\\venv\\lib\\site-packages (from matplotlib) (1.26.4)\n",
      "Requirement already satisfied: packaging>=20.0 in d:\\react-flask\\flask-server\\venv\\lib\\site-packages (from matplotlib) (23.2)\n",
      "Requirement already satisfied: pillow>=8 in d:\\react-flask\\flask-server\\venv\\lib\\site-packages (from matplotlib) (10.2.0)\n",
      "Requirement already satisfied: pyparsing>=2.3.1 in d:\\react-flask\\flask-server\\venv\\lib\\site-packages (from matplotlib) (3.1.1)\n",
      "Requirement already satisfied: python-dateutil>=2.7 in d:\\react-flask\\flask-server\\venv\\lib\\site-packages (from matplotlib) (2.8.2)\n",
      "Requirement already satisfied: six>=1.5 in d:\\react-flask\\flask-server\\venv\\lib\\site-packages (from python-dateutil>=2.7->matplotlib) (1.16.0)\n",
      "Note: you may need to restart the kernel to use updated packages.\n",
      "Requirement already satisfied: seaborn in d:\\react-flask\\flask-server\\venv\\lib\\site-packages (0.13.2)\n",
      "Requirement already satisfied: numpy!=1.24.0,>=1.20 in d:\\react-flask\\flask-server\\venv\\lib\\site-packages (from seaborn) (1.26.4)\n",
      "Requirement already satisfied: pandas>=1.2 in d:\\react-flask\\flask-server\\venv\\lib\\site-packages (from seaborn) (2.2.0)\n",
      "Requirement already satisfied: matplotlib!=3.6.1,>=3.4 in d:\\react-flask\\flask-server\\venv\\lib\\site-packages (from seaborn) (3.8.3)\n",
      "Requirement already satisfied: contourpy>=1.0.1 in d:\\react-flask\\flask-server\\venv\\lib\\site-packages (from matplotlib!=3.6.1,>=3.4->seaborn) (1.2.0)\n",
      "Requirement already satisfied: cycler>=0.10 in d:\\react-flask\\flask-server\\venv\\lib\\site-packages (from matplotlib!=3.6.1,>=3.4->seaborn) (0.12.1)\n",
      "Requirement already satisfied: fonttools>=4.22.0 in d:\\react-flask\\flask-server\\venv\\lib\\site-packages (from matplotlib!=3.6.1,>=3.4->seaborn) (4.49.0)\n",
      "Requirement already satisfied: kiwisolver>=1.3.1 in d:\\react-flask\\flask-server\\venv\\lib\\site-packages (from matplotlib!=3.6.1,>=3.4->seaborn) (1.4.5)\n",
      "Requirement already satisfied: packaging>=20.0 in d:\\react-flask\\flask-server\\venv\\lib\\site-packages (from matplotlib!=3.6.1,>=3.4->seaborn) (23.2)\n",
      "Requirement already satisfied: pillow>=8 in d:\\react-flask\\flask-server\\venv\\lib\\site-packages (from matplotlib!=3.6.1,>=3.4->seaborn) (10.2.0)\n",
      "Requirement already satisfied: pyparsing>=2.3.1 in d:\\react-flask\\flask-server\\venv\\lib\\site-packages (from matplotlib!=3.6.1,>=3.4->seaborn) (3.1.1)\n",
      "Requirement already satisfied: python-dateutil>=2.7 in d:\\react-flask\\flask-server\\venv\\lib\\site-packages (from matplotlib!=3.6.1,>=3.4->seaborn) (2.8.2)\n",
      "Requirement already satisfied: pytz>=2020.1 in d:\\react-flask\\flask-server\\venv\\lib\\site-packages (from pandas>=1.2->seaborn) (2024.1)\n",
      "Requirement already satisfied: tzdata>=2022.7 in d:\\react-flask\\flask-server\\venv\\lib\\site-packages (from pandas>=1.2->seaborn) (2024.1)\n",
      "Requirement already satisfied: six>=1.5 in d:\\react-flask\\flask-server\\venv\\lib\\site-packages (from python-dateutil>=2.7->matplotlib!=3.6.1,>=3.4->seaborn) (1.16.0)\n",
      "Note: you may need to restart the kernel to use updated packages.\n",
      "Collecting sklearnNote: you may need to restart the kernel to use updated packages.\n",
      "\n",
      "  Using cached sklearn-0.0.post12.tar.gz (2.6 kB)\n",
      "  Preparing metadata (setup.py): started\n",
      "  Preparing metadata (setup.py): finished with status 'error'\n"
     ]
    },
    {
     "name": "stderr",
     "output_type": "stream",
     "text": [
      "  error: subprocess-exited-with-error\n",
      "  \n",
      "  python setup.py egg_info did not run successfully.\n",
      "  exit code: 1\n",
      "  \n",
      "  [15 lines of output]\n",
      "  The 'sklearn' PyPI package is deprecated, use 'scikit-learn'\n",
      "  rather than 'sklearn' for pip commands.\n",
      "  \n",
      "  Here is how to fix this error in the main use cases:\n",
      "  - use 'pip install scikit-learn' rather than 'pip install sklearn'\n",
      "  - replace 'sklearn' by 'scikit-learn' in your pip requirements files\n",
      "    (requirements.txt, setup.py, setup.cfg, Pipfile, etc ...)\n",
      "  - if the 'sklearn' package is used by one of your dependencies,\n",
      "    it would be great if you take some time to track which package uses\n",
      "    'sklearn' instead of 'scikit-learn' and report it to their issue tracker\n",
      "  - as a last resort, set the environment variable\n",
      "    SKLEARN_ALLOW_DEPRECATED_SKLEARN_PACKAGE_INSTALL=True to avoid this error\n",
      "  \n",
      "  More information is available at\n",
      "  https://github.com/scikit-learn/sklearn-pypi-package\n",
      "  [end of output]\n",
      "  \n",
      "  note: This error originates from a subprocess, and is likely not a problem with pip.\n",
      "error: metadata-generation-failed\n",
      "\n",
      "Encountered error while generating package metadata.\n",
      "\n",
      "See above for output.\n",
      "\n",
      "note: This is an issue with the package mentioned above, not pip.\n",
      "hint: See above for details.\n"
     ]
    }
   ],
   "source": [
    "%pip install librosa\n",
    "%pip install numpy\n",
    "%pip install scikit-learn\n",
    "%pip install keras\n",
    "%pip install matplotlib\n",
    "%pip install seaborn\n",
    "%pip install sklearn"
   ]
  },
  {
   "cell_type": "code",
   "execution_count": 124,
   "id": "f112deef",
   "metadata": {},
   "outputs": [],
   "source": [
    "import os\n",
    "import librosa\n",
    "import numpy as np\n",
    "from sklearn.model_selection import train_test_split\n",
    "from sklearn.preprocessing import StandardScaler\n",
    "from sklearn.mixture import GaussianMixture\n",
    "from sklearn.neighbors import KNeighborsClassifier\n",
    "from sklearn.metrics import accuracy_score\n",
    "from keras.models import Sequential\n",
    "from keras.layers import Dense\n",
    "import joblib"
   ]
  },
  {
   "cell_type": "code",
   "execution_count": 125,
   "id": "242b3111",
   "metadata": {},
   "outputs": [],
   "source": [
    "def extract_features(audio_file):\n",
    "    audio, sr = librosa.load(audio_file, sr=None)\n",
    "    \n",
    "    mfcc = librosa.feature.mfcc(y=audio, sr=sr, n_mfcc=39)\n",
    "    mfcc_mean = mfcc.mean(axis=1)\n",
    "    hnr = extract_hnr(audio)  \n",
    "    zcr = librosa.feature.zero_crossing_rate(audio).mean()\n",
    "    teo = extract_teo(audio)  \n",
    "    \n",
    "    return np.concatenate([mfcc_mean, [hnr, zcr, teo]])"
   ]
  },
  {
   "cell_type": "code",
   "execution_count": 126,
   "id": "c0b864f6",
   "metadata": {},
   "outputs": [],
   "source": [
    "def extract_hnr(audio, threshold=0.1):\n",
    "    \n",
    "    harmonics = np.abs(np.fft.fft(audio))\n",
    "    noise = np.sum(harmonics[int(threshold * len(harmonics)):])\n",
    "    harmonic = np.sum(harmonics[:int(threshold * len(harmonics))])\n",
    "    hnr = harmonic / noise\n",
    "    return hnr"
   ]
  },
  {
   "cell_type": "code",
   "execution_count": 127,
   "id": "bc033897",
   "metadata": {},
   "outputs": [],
   "source": [
    "def extract_teo(audio):\n",
    "   \n",
    "    teo = np.sum(audio[1:-1]**2 - audio[:-2] * audio[2:])\n",
    "    return teo"
   ]
  },
  {
   "cell_type": "code",
   "execution_count": 2,
   "id": "5bdc71c5",
   "metadata": {},
   "outputs": [
    {
     "ename": "NameError",
     "evalue": "name 'os' is not defined",
     "output_type": "error",
     "traceback": [
      "\u001b[1;31m---------------------------------------------------------------------------\u001b[0m",
      "\u001b[1;31mNameError\u001b[0m                                 Traceback (most recent call last)",
      "Cell \u001b[1;32mIn[2], line 2\u001b[0m\n\u001b[0;32m      1\u001b[0m emotion_folder_path \u001b[38;5;241m=\u001b[39m \u001b[38;5;124m'\u001b[39m\u001b[38;5;124m./emotions/\u001b[39m\u001b[38;5;124m'\u001b[39m\n\u001b[1;32m----> 2\u001b[0m emotions \u001b[38;5;241m=\u001b[39m \u001b[43mos\u001b[49m\u001b[38;5;241m.\u001b[39mlistdir(emotion_folder_path)\n\u001b[0;32m      4\u001b[0m X \u001b[38;5;241m=\u001b[39m []\n\u001b[0;32m      5\u001b[0m y \u001b[38;5;241m=\u001b[39m []\n",
      "\u001b[1;31mNameError\u001b[0m: name 'os' is not defined"
     ]
    }
   ],
   "source": [
    "emotion_folder_path = './emotions/'\n",
    "emotions = os.listdir(emotion_folder_path)\n",
    "\n",
    "X = []\n",
    "y = []\n",
    "\n",
    "for emotion in emotions:\n",
    "    emotion_path = os.path.join(emotion_folder_path, emotion)\n",
    "    for filename in os.listdir(emotion_path):\n",
    "        if filename.endswith(\".wav\"):\n",
    "            audio_path = os.path.join(emotion_path, filename)\n",
    "            features = extract_features(audio_path)\n",
    "            X.append(features)\n",
    "            y.append(emotion)\n",
    "\n",
    "X = np.array(X)\n",
    "y = np.array(y)"
   ]
  },
  {
   "cell_type": "code",
   "execution_count": 129,
   "id": "468979e1",
   "metadata": {},
   "outputs": [],
   "source": [
    "X_train, X_test, y_train, y_test = train_test_split(X, y, test_size=0.1, random_state=42)"
   ]
  },
  {
   "cell_type": "code",
   "execution_count": 130,
   "id": "2164ca5a",
   "metadata": {},
   "outputs": [],
   "source": [
    "scaler = StandardScaler()\n",
    "X_train_scaled = scaler.fit_transform(X_train)\n",
    "X_test_scaled = scaler.transform(X_test)"
   ]
  },
  {
   "cell_type": "code",
   "execution_count": 131,
   "id": "f6ec99d8",
   "metadata": {},
   "outputs": [
    {
     "name": "stdout",
     "output_type": "stream",
     "text": [
      "Epoch 1/100\n",
      "20/20 [==============================] - 8s 11ms/step - loss: 0.9043\n",
      "Epoch 2/100\n",
      "20/20 [==============================] - 0s 11ms/step - loss: 0.6883\n",
      "Epoch 3/100\n",
      "20/20 [==============================] - 0s 11ms/step - loss: 0.6181\n",
      "Epoch 4/100\n",
      "20/20 [==============================] - 0s 11ms/step - loss: 0.5280\n",
      "Epoch 5/100\n",
      "20/20 [==============================] - 0s 11ms/step - loss: 0.4642\n",
      "Epoch 6/100\n",
      "20/20 [==============================] - 0s 11ms/step - loss: 0.4442\n",
      "Epoch 7/100\n",
      "20/20 [==============================] - 0s 11ms/step - loss: 0.4263\n",
      "Epoch 8/100\n",
      "20/20 [==============================] - 0s 13ms/step - loss: 0.4185\n",
      "Epoch 9/100\n",
      "20/20 [==============================] - 0s 14ms/step - loss: 0.4139\n",
      "Epoch 10/100\n",
      "20/20 [==============================] - 0s 12ms/step - loss: 0.4073\n",
      "Epoch 11/100\n",
      "20/20 [==============================] - 0s 12ms/step - loss: 0.4013\n",
      "Epoch 12/100\n",
      "20/20 [==============================] - 0s 12ms/step - loss: 0.3981\n",
      "Epoch 13/100\n",
      "20/20 [==============================] - 0s 13ms/step - loss: 0.3909\n",
      "Epoch 14/100\n",
      "20/20 [==============================] - 0s 13ms/step - loss: 0.3913\n",
      "Epoch 15/100\n",
      "20/20 [==============================] - 0s 12ms/step - loss: 0.3915\n",
      "Epoch 16/100\n",
      "20/20 [==============================] - 0s 12ms/step - loss: 0.3926\n",
      "Epoch 17/100\n",
      "20/20 [==============================] - 0s 12ms/step - loss: 0.3847\n",
      "Epoch 18/100\n",
      "20/20 [==============================] - 0s 13ms/step - loss: 0.3769\n",
      "Epoch 19/100\n",
      "20/20 [==============================] - 0s 11ms/step - loss: 0.3723\n",
      "Epoch 20/100\n",
      "20/20 [==============================] - 0s 11ms/step - loss: 0.3668\n",
      "Epoch 21/100\n",
      "20/20 [==============================] - 0s 11ms/step - loss: 0.3590\n",
      "Epoch 22/100\n",
      "20/20 [==============================] - 0s 11ms/step - loss: 0.3579\n",
      "Epoch 23/100\n",
      "20/20 [==============================] - 0s 11ms/step - loss: 0.3628\n",
      "Epoch 24/100\n",
      "20/20 [==============================] - 0s 11ms/step - loss: 0.3572\n",
      "Epoch 25/100\n",
      "20/20 [==============================] - 0s 11ms/step - loss: 0.3574\n",
      "Epoch 26/100\n",
      "20/20 [==============================] - 0s 11ms/step - loss: 0.3578\n",
      "Epoch 27/100\n",
      "20/20 [==============================] - 0s 11ms/step - loss: 0.3562\n",
      "Epoch 28/100\n",
      "20/20 [==============================] - 0s 11ms/step - loss: 0.3516\n",
      "Epoch 29/100\n",
      "20/20 [==============================] - 0s 11ms/step - loss: 0.3549\n",
      "Epoch 30/100\n",
      "20/20 [==============================] - 0s 11ms/step - loss: 0.3513\n",
      "Epoch 31/100\n",
      "20/20 [==============================] - 0s 11ms/step - loss: 0.3468\n",
      "Epoch 32/100\n",
      "20/20 [==============================] - 0s 11ms/step - loss: 0.3402\n",
      "Epoch 33/100\n",
      "20/20 [==============================] - 0s 11ms/step - loss: 0.3390\n",
      "Epoch 34/100\n",
      "20/20 [==============================] - 0s 11ms/step - loss: 0.3352\n",
      "Epoch 35/100\n",
      "20/20 [==============================] - 0s 11ms/step - loss: 0.3344\n",
      "Epoch 36/100\n",
      "20/20 [==============================] - 0s 11ms/step - loss: 0.3361\n",
      "Epoch 37/100\n",
      "20/20 [==============================] - 0s 11ms/step - loss: 0.3345\n",
      "Epoch 38/100\n",
      "20/20 [==============================] - 0s 11ms/step - loss: 0.3353\n",
      "Epoch 39/100\n",
      "20/20 [==============================] - 0s 11ms/step - loss: 0.3549\n",
      "Epoch 40/100\n",
      "20/20 [==============================] - 0s 11ms/step - loss: 0.3477\n",
      "Epoch 41/100\n",
      "20/20 [==============================] - 0s 11ms/step - loss: 0.3414\n",
      "Epoch 42/100\n",
      "20/20 [==============================] - 0s 11ms/step - loss: 0.3377\n",
      "Epoch 43/100\n",
      "20/20 [==============================] - 0s 11ms/step - loss: 0.3319\n",
      "Epoch 44/100\n",
      "20/20 [==============================] - 0s 11ms/step - loss: 0.3324\n",
      "Epoch 45/100\n",
      "20/20 [==============================] - 0s 11ms/step - loss: 0.3343\n",
      "Epoch 46/100\n",
      "20/20 [==============================] - 0s 11ms/step - loss: 0.3294\n",
      "Epoch 47/100\n",
      "20/20 [==============================] - 0s 11ms/step - loss: 0.3259\n",
      "Epoch 48/100\n",
      "20/20 [==============================] - 0s 11ms/step - loss: 0.3247\n",
      "Epoch 49/100\n",
      "20/20 [==============================] - 0s 11ms/step - loss: 0.3289\n",
      "Epoch 50/100\n",
      "20/20 [==============================] - 0s 11ms/step - loss: 0.3258\n",
      "Epoch 51/100\n",
      "20/20 [==============================] - 0s 11ms/step - loss: 0.3258\n",
      "Epoch 52/100\n",
      "20/20 [==============================] - 0s 11ms/step - loss: 0.3191\n",
      "Epoch 53/100\n",
      "20/20 [==============================] - 0s 11ms/step - loss: 0.3200\n",
      "Epoch 54/100\n",
      "20/20 [==============================] - 0s 11ms/step - loss: 0.3227\n",
      "Epoch 55/100\n",
      "20/20 [==============================] - 0s 10ms/step - loss: 0.3207\n",
      "Epoch 56/100\n",
      "20/20 [==============================] - 0s 11ms/step - loss: 0.3150\n",
      "Epoch 57/100\n",
      "20/20 [==============================] - 0s 11ms/step - loss: 0.3143\n",
      "Epoch 58/100\n",
      "20/20 [==============================] - 0s 11ms/step - loss: 0.3122\n",
      "Epoch 59/100\n",
      "20/20 [==============================] - 0s 11ms/step - loss: 0.3338\n",
      "Epoch 60/100\n",
      "20/20 [==============================] - 0s 11ms/step - loss: 0.3383\n",
      "Epoch 61/100\n",
      "20/20 [==============================] - 0s 11ms/step - loss: 0.3230\n",
      "Epoch 62/100\n",
      "20/20 [==============================] - 0s 11ms/step - loss: 0.3236\n",
      "Epoch 63/100\n",
      "20/20 [==============================] - 0s 11ms/step - loss: 0.3142\n",
      "Epoch 64/100\n",
      "20/20 [==============================] - 0s 12ms/step - loss: 0.3099\n",
      "Epoch 65/100\n",
      "20/20 [==============================] - 0s 11ms/step - loss: 0.3086\n",
      "Epoch 66/100\n",
      "20/20 [==============================] - 0s 10ms/step - loss: 0.3076\n",
      "Epoch 67/100\n",
      "20/20 [==============================] - 0s 10ms/step - loss: 0.3058\n",
      "Epoch 68/100\n",
      "20/20 [==============================] - 0s 11ms/step - loss: 0.3068\n",
      "Epoch 69/100\n",
      "20/20 [==============================] - 0s 11ms/step - loss: 0.3050\n",
      "Epoch 70/100\n",
      "20/20 [==============================] - 0s 11ms/step - loss: 0.3056\n",
      "Epoch 71/100\n",
      "20/20 [==============================] - 0s 11ms/step - loss: 0.3023\n",
      "Epoch 72/100\n",
      "20/20 [==============================] - 0s 11ms/step - loss: 0.3018\n",
      "Epoch 73/100\n",
      "20/20 [==============================] - 0s 10ms/step - loss: 0.3012\n",
      "Epoch 74/100\n",
      "20/20 [==============================] - 0s 10ms/step - loss: 0.3029\n",
      "Epoch 75/100\n",
      "20/20 [==============================] - 0s 11ms/step - loss: 0.3054\n",
      "Epoch 76/100\n",
      "20/20 [==============================] - 0s 11ms/step - loss: 0.3145\n",
      "Epoch 77/100\n",
      "20/20 [==============================] - 0s 11ms/step - loss: 0.3036\n",
      "Epoch 78/100\n",
      "20/20 [==============================] - 0s 11ms/step - loss: 0.2979\n",
      "Epoch 79/100\n",
      "20/20 [==============================] - 0s 11ms/step - loss: 0.2995\n",
      "Epoch 80/100\n",
      "20/20 [==============================] - 0s 11ms/step - loss: 0.2987\n",
      "Epoch 81/100\n",
      "20/20 [==============================] - 0s 10ms/step - loss: 0.3009\n",
      "Epoch 82/100\n",
      "20/20 [==============================] - 0s 10ms/step - loss: 0.3041\n",
      "Epoch 83/100\n",
      "20/20 [==============================] - 0s 11ms/step - loss: 0.2998\n",
      "Epoch 84/100\n",
      "20/20 [==============================] - 0s 10ms/step - loss: 0.2967\n",
      "Epoch 85/100\n",
      "20/20 [==============================] - 0s 11ms/step - loss: 0.2948\n",
      "Epoch 86/100\n",
      "20/20 [==============================] - 0s 11ms/step - loss: 0.2927\n",
      "Epoch 87/100\n",
      "20/20 [==============================] - 0s 11ms/step - loss: 0.2920\n",
      "Epoch 88/100\n",
      "20/20 [==============================] - 0s 10ms/step - loss: 0.2931\n",
      "Epoch 89/100\n",
      "20/20 [==============================] - 0s 10ms/step - loss: 0.2919\n",
      "Epoch 90/100\n",
      "20/20 [==============================] - 0s 11ms/step - loss: 0.2904\n",
      "Epoch 91/100\n",
      "20/20 [==============================] - 0s 10ms/step - loss: 0.2905\n",
      "Epoch 92/100\n",
      "20/20 [==============================] - 0s 10ms/step - loss: 0.2905\n",
      "Epoch 93/100\n",
      "20/20 [==============================] - 0s 10ms/step - loss: 0.2977\n",
      "Epoch 94/100\n",
      "20/20 [==============================] - 0s 11ms/step - loss: 0.2963\n",
      "Epoch 95/100\n",
      "20/20 [==============================] - 0s 11ms/step - loss: 0.3035\n",
      "Epoch 96/100\n",
      "20/20 [==============================] - 0s 10ms/step - loss: 0.3015\n",
      "Epoch 97/100\n",
      "20/20 [==============================] - 0s 10ms/step - loss: 0.3087\n",
      "Epoch 98/100\n",
      "20/20 [==============================] - 0s 11ms/step - loss: 0.2992\n",
      "Epoch 99/100\n",
      "20/20 [==============================] - 0s 10ms/step - loss: 0.2966\n",
      "Epoch 100/100\n",
      "20/20 [==============================] - 0s 10ms/step - loss: 0.3021\n"
     ]
    },
    {
     "data": {
      "text/plain": [
       "<keras.src.callbacks.History at 0x2024a2a1cc0>"
      ]
     },
     "execution_count": 131,
     "metadata": {},
     "output_type": "execute_result"
    }
   ],
   "source": [
    "model = Sequential([\n",
    "    Dense(512, activation='relu', input_shape=(X_train_scaled.shape[1],)),\n",
    "    Dense(256, activation='relu'),\n",
    "    Dense(128, activation='relu'),\n",
    "    Dense(64, activation='relu'),\n",
    "    Dense(32, activation='relu'),\n",
    "    Dense(16, activation='relu'),\n",
    "    Dense(8, activation='relu'),\n",
    "    Dense(4, activation='relu'),\n",
    "    Dense(2, activation='relu'),\n",
    "    Dense(4, activation='relu'),\n",
    "    Dense(8, activation='relu'),\n",
    "    Dense(16, activation='relu'),\n",
    "    Dense(32, activation='relu'),\n",
    "    Dense(64, activation='relu'),\n",
    "    Dense(128, activation='relu'),\n",
    "    Dense(256, activation='relu'),\n",
    "    Dense(512, activation='relu'),\n",
    "    Dense(X_train_scaled.shape[1], activation='linear')\n",
    "])\n",
    "\n",
    "model.compile(optimizer='adam', loss='mean_squared_error')\n",
    "model.fit(X_train_scaled, X_train_scaled, epochs=100, batch_size=32)"
   ]
  },
  {
   "cell_type": "code",
   "execution_count": null,
   "id": "6d4fa0b3",
   "metadata": {},
   "outputs": [],
   "source": [
    "# encoder = Sequential(model.layers[:9])\n",
    "# X_train_encoded = encoder.predict(X_train_scaled)\n",
    "# X_test_encoded = encoder.predict(X_test_scaled)"
   ]
  },
  {
   "cell_type": "code",
   "execution_count": 1,
   "id": "1c0c9e02",
   "metadata": {},
   "outputs": [
    {
     "ename": "NameError",
     "evalue": "name 'GaussianMixture' is not defined",
     "output_type": "error",
     "traceback": [
      "\u001b[1;31m---------------------------------------------------------------------------\u001b[0m",
      "\u001b[1;31mNameError\u001b[0m                                 Traceback (most recent call last)",
      "Cell \u001b[1;32mIn[1], line 1\u001b[0m\n\u001b[1;32m----> 1\u001b[0m gmm \u001b[38;5;241m=\u001b[39m \u001b[43mGaussianMixture\u001b[49m(n_components\u001b[38;5;241m=\u001b[39m\u001b[38;5;28mlen\u001b[39m(emotions), covariance_type\u001b[38;5;241m=\u001b[39m\u001b[38;5;124m'\u001b[39m\u001b[38;5;124mfull\u001b[39m\u001b[38;5;124m'\u001b[39m)\n\u001b[0;32m      2\u001b[0m gmm\u001b[38;5;241m.\u001b[39mfit(X_train_scaled)\n",
      "\u001b[1;31mNameError\u001b[0m: name 'GaussianMixture' is not defined"
     ]
    }
   ],
   "source": [
    "gmm = GaussianMixture(n_components=len(emotions), covariance_type='full')\n",
    "gmm.fit(X_train_scaled)"
   ]
  },
  {
   "cell_type": "code",
   "execution_count": 133,
   "id": "4831a2ae-cc82-40f6-903c-bed710f133a9",
   "metadata": {},
   "outputs": [
    {
     "data": {
      "text/plain": [
       "['gmm_model.pkl']"
      ]
     },
     "execution_count": 133,
     "metadata": {},
     "output_type": "execute_result"
    }
   ],
   "source": [
    "joblib.dump(gmm, 'gmm_model.pkl')"
   ]
  },
  {
   "cell_type": "code",
   "execution_count": null,
   "id": "3c4d8e74",
   "metadata": {},
   "outputs": [],
   "source": [
    "knn = KNeighborsClassifier(n_neighbors=2)\n",
    "knn.fit(X_train_scaled, y_train)"
   ]
  },
  {
   "cell_type": "code",
   "execution_count": 134,
   "id": "a5f78ead-2e1e-460a-ba94-b7dcaa1e6836",
   "metadata": {},
   "outputs": [
    {
     "data": {
      "text/plain": [
       "['knn_model.pkl']"
      ]
     },
     "execution_count": 134,
     "metadata": {},
     "output_type": "execute_result"
    }
   ],
   "source": [
    "joblib.dump(knn, 'knn_model.pkl')"
   ]
  },
  {
   "cell_type": "code",
   "execution_count": 135,
   "id": "0b8d0d41",
   "metadata": {},
   "outputs": [],
   "source": [
    "y_pred_gmm = gmm.predict(X_test_scaled)\n",
    "y_pred_knn = knn.predict(X_test_scaled)"
   ]
  },
  {
   "cell_type": "code",
   "execution_count": 136,
   "id": "9c689e43",
   "metadata": {},
   "outputs": [],
   "source": [
    "accuracy_knn = accuracy_score(y_test, y_pred_knn)"
   ]
  },
  {
   "cell_type": "code",
   "execution_count": 149,
   "id": "3aedf73f",
   "metadata": {},
   "outputs": [
    {
     "name": "stdout",
     "output_type": "stream",
     "text": [
      "Accuracy with KNN: 0.8115942028985508\n"
     ]
    }
   ],
   "source": [
    "print(f'Accuracy with KNN: {accuracy_knn}')"
   ]
  },
  {
   "cell_type": "code",
   "execution_count": 138,
   "id": "69d9b8e2",
   "metadata": {},
   "outputs": [
    {
     "data": {
      "text/plain": [
       "array(['fear', 'disgust', 'disgust', 'disgust', 'fear', 'happiness',\n",
       "       'happiness', 'fear', 'sadness', 'surprise', 'fear', 'sadness',\n",
       "       'happiness', 'disgust', 'disgust', 'disgust', 'angry', 'angry',\n",
       "       'happiness', 'disgust', 'surprise', 'surprise', 'happiness',\n",
       "       'sadness', 'fear', 'surprise', 'angry', 'surprise', 'disgust',\n",
       "       'sadness', 'fear', 'sadness', 'fear', 'angry', 'angry', 'sadness',\n",
       "       'sadness', 'happiness', 'angry', 'angry', 'disgust', 'disgust',\n",
       "       'happiness', 'angry', 'sadness', 'surprise', 'disgust', 'fear',\n",
       "       'surprise', 'angry', 'surprise', 'happiness', 'happiness', 'fear',\n",
       "       'surprise', 'sadness', 'angry', 'fear', 'fear', 'disgust',\n",
       "       'disgust', 'happiness', 'angry', 'angry', 'angry', 'happiness',\n",
       "       'fear', 'angry', 'surprise'], dtype='<U9')"
      ]
     },
     "execution_count": 138,
     "metadata": {},
     "output_type": "execute_result"
    }
   ],
   "source": [
    "y_pred_knn"
   ]
  },
  {
   "cell_type": "code",
   "execution_count": 139,
   "id": "7ecb9b4c",
   "metadata": {},
   "outputs": [
    {
     "data": {
      "image/png": "[encoded data removed]",
      "text/plain": [
       "<Figure size 1000x800 with 2 Axes>"
      ]
     },
     "metadata": {},
     "output_type": "display_data"
    }
   ],
   "source": [
    "import matplotlib.pyplot as plt\n",
    "import seaborn as sns\n",
    "from sklearn.metrics import confusion_matrix\n",
    "\n",
    "\n",
    "cm = confusion_matrix(y_test, y_pred_knn, labels=emotions)\n",
    "\n",
    "plt.figure(figsize=(10, 8))\n",
    "sns.heatmap(cm, annot=True, fmt='d', cmap='Blues', xticklabels=emotions, yticklabels=emotions)\n",
    "plt.title('Confusion Matrix - KNN Classifier')\n",
    "plt.xlabel('Predicted')\n",
    "plt.ylabel('Actual')\n",
    "plt.show()\n"
   ]
  }
 ],
 "metadata": {
  "kernelspec": {
   "display_name": "Python 3 (ipykernel)",
   "language": "python",
   "name": "python3"
  },
  "language_info": {
   "codemirror_mode": {
    "name": "ipython",
    "version": 3
   },
   "file_extension": ".py",
   "mimetype": "text/x-python",
   "name": "python",
   "nbconvert_exporter": "python",
   "pygments_lexer": "ipython3",
   "version": "3.11.2"
  }
 },
 "nbformat": 4,
 "nbformat_minor": 5
}
